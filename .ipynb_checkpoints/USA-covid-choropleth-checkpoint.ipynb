{
 "cells": [
  {
   "cell_type": "markdown",
   "metadata": {},
   "source": [
    "[This map](https://covid.cdc.gov/covid-data-tracker/index.html#county-map) is bad. Let's improve it.\n",
    "\n",
    "First we, need to find the data. Clicking USAFacts.org link below the map takes me [here](https://usafacts.org/visualizations/coronavirus-covid-19-spread-map/). There's already a better map there but a) it's an unclassified choropleth and b) I want to make my own. \n",
    "\n",
    "Look, there's some links to download data:\n",
    "- [Known Cases](https://usafactsstatic.blob.core.windows.net/public/data/covid-19/covid_confirmed_usafacts.csv)  ([cache](https://raw.githubusercontent.com/jamesdamillington/usa-covid-mapping/main/data/covid_deaths_usafacts_2020-10-27.csv) of data on 2020-10-27)\n",
    "- [County Populations](https://usafactsstatic.blob.core.windows.net/public/data/covid-19/covid_county_population_usafacts.csv) ([cache](https://raw.githubusercontent.com/jamesdamillington/usa-covid-mapping/main/data/covid_county_population_usafacts_2020-10-27.csv) of data on 2020-10-27)\n",
    "\n",
    "\n",
    "\n"
   ]
  },
  {
   "cell_type": "markdown",
   "metadata": {},
   "source": [
    "Now"
   ]
  }
 ],
 "metadata": {
  "kernelspec": {
   "display_name": "Python 3",
   "language": "python",
   "name": "python3"
  },
  "language_info": {
   "codemirror_mode": {
    "name": "ipython",
    "version": 3
   },
   "file_extension": ".py",
   "mimetype": "text/x-python",
   "name": "python",
   "nbconvert_exporter": "python",
   "pygments_lexer": "ipython3",
   "version": "3.6.11"
  }
 },
 "nbformat": 4,
 "nbformat_minor": 4
}
